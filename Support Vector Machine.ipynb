{
 "cells": [
  {
   "cell_type": "code",
   "execution_count": 2,
   "metadata": {},
   "outputs": [
    {
     "data": {
      "text/html": [
       "<div>\n",
       "<style scoped>\n",
       "    .dataframe tbody tr th:only-of-type {\n",
       "        vertical-align: middle;\n",
       "    }\n",
       "\n",
       "    .dataframe tbody tr th {\n",
       "        vertical-align: top;\n",
       "    }\n",
       "\n",
       "    .dataframe thead th {\n",
       "        text-align: right;\n",
       "    }\n",
       "</style>\n",
       "<table border=\"1\" class=\"dataframe\">\n",
       "  <thead>\n",
       "    <tr style=\"text-align: right;\">\n",
       "      <th></th>\n",
       "      <th>age</th>\n",
       "      <th>sex</th>\n",
       "      <th>bmi</th>\n",
       "      <th>children</th>\n",
       "      <th>smoker</th>\n",
       "      <th>charges</th>\n",
       "    </tr>\n",
       "  </thead>\n",
       "  <tbody>\n",
       "    <tr>\n",
       "      <td>0</td>\n",
       "      <td>19</td>\n",
       "      <td>female</td>\n",
       "      <td>27.900</td>\n",
       "      <td>0</td>\n",
       "      <td>yes</td>\n",
       "      <td>16884.92400</td>\n",
       "    </tr>\n",
       "    <tr>\n",
       "      <td>1</td>\n",
       "      <td>18</td>\n",
       "      <td>male</td>\n",
       "      <td>33.770</td>\n",
       "      <td>1</td>\n",
       "      <td>no</td>\n",
       "      <td>1725.55230</td>\n",
       "    </tr>\n",
       "    <tr>\n",
       "      <td>2</td>\n",
       "      <td>28</td>\n",
       "      <td>male</td>\n",
       "      <td>33.000</td>\n",
       "      <td>3</td>\n",
       "      <td>no</td>\n",
       "      <td>4449.46200</td>\n",
       "    </tr>\n",
       "    <tr>\n",
       "      <td>3</td>\n",
       "      <td>33</td>\n",
       "      <td>male</td>\n",
       "      <td>22.705</td>\n",
       "      <td>0</td>\n",
       "      <td>no</td>\n",
       "      <td>21984.47061</td>\n",
       "    </tr>\n",
       "    <tr>\n",
       "      <td>4</td>\n",
       "      <td>32</td>\n",
       "      <td>male</td>\n",
       "      <td>28.880</td>\n",
       "      <td>0</td>\n",
       "      <td>no</td>\n",
       "      <td>3866.85520</td>\n",
       "    </tr>\n",
       "    <tr>\n",
       "      <td>...</td>\n",
       "      <td>...</td>\n",
       "      <td>...</td>\n",
       "      <td>...</td>\n",
       "      <td>...</td>\n",
       "      <td>...</td>\n",
       "      <td>...</td>\n",
       "    </tr>\n",
       "    <tr>\n",
       "      <td>1333</td>\n",
       "      <td>50</td>\n",
       "      <td>male</td>\n",
       "      <td>30.970</td>\n",
       "      <td>3</td>\n",
       "      <td>no</td>\n",
       "      <td>10600.54830</td>\n",
       "    </tr>\n",
       "    <tr>\n",
       "      <td>1334</td>\n",
       "      <td>18</td>\n",
       "      <td>female</td>\n",
       "      <td>31.920</td>\n",
       "      <td>0</td>\n",
       "      <td>no</td>\n",
       "      <td>2205.98080</td>\n",
       "    </tr>\n",
       "    <tr>\n",
       "      <td>1335</td>\n",
       "      <td>18</td>\n",
       "      <td>female</td>\n",
       "      <td>36.850</td>\n",
       "      <td>0</td>\n",
       "      <td>no</td>\n",
       "      <td>1629.83350</td>\n",
       "    </tr>\n",
       "    <tr>\n",
       "      <td>1336</td>\n",
       "      <td>21</td>\n",
       "      <td>female</td>\n",
       "      <td>25.800</td>\n",
       "      <td>0</td>\n",
       "      <td>no</td>\n",
       "      <td>2007.94500</td>\n",
       "    </tr>\n",
       "    <tr>\n",
       "      <td>1337</td>\n",
       "      <td>61</td>\n",
       "      <td>female</td>\n",
       "      <td>29.070</td>\n",
       "      <td>0</td>\n",
       "      <td>yes</td>\n",
       "      <td>29141.36030</td>\n",
       "    </tr>\n",
       "  </tbody>\n",
       "</table>\n",
       "<p>1338 rows × 6 columns</p>\n",
       "</div>"
      ],
      "text/plain": [
       "      age     sex     bmi  children smoker      charges\n",
       "0      19  female  27.900         0    yes  16884.92400\n",
       "1      18    male  33.770         1     no   1725.55230\n",
       "2      28    male  33.000         3     no   4449.46200\n",
       "3      33    male  22.705         0     no  21984.47061\n",
       "4      32    male  28.880         0     no   3866.85520\n",
       "...   ...     ...     ...       ...    ...          ...\n",
       "1333   50    male  30.970         3     no  10600.54830\n",
       "1334   18  female  31.920         0     no   2205.98080\n",
       "1335   18  female  36.850         0     no   1629.83350\n",
       "1336   21  female  25.800         0     no   2007.94500\n",
       "1337   61  female  29.070         0    yes  29141.36030\n",
       "\n",
       "[1338 rows x 6 columns]"
      ]
     },
     "execution_count": 2,
     "metadata": {},
     "output_type": "execute_result"
    }
   ],
   "source": [
    "import pandas as pd\n",
    "dataset=pd.read_csv(\"insurance_pre.csv\")\n",
    "dataset"
   ]
  },
  {
   "cell_type": "code",
   "execution_count": 3,
   "metadata": {},
   "outputs": [],
   "source": [
    "dataset=pd.get_dummies(dataset,drop_first=True)"
   ]
  },
  {
   "cell_type": "code",
   "execution_count": 4,
   "metadata": {},
   "outputs": [
    {
     "data": {
      "text/html": [
       "<div>\n",
       "<style scoped>\n",
       "    .dataframe tbody tr th:only-of-type {\n",
       "        vertical-align: middle;\n",
       "    }\n",
       "\n",
       "    .dataframe tbody tr th {\n",
       "        vertical-align: top;\n",
       "    }\n",
       "\n",
       "    .dataframe thead th {\n",
       "        text-align: right;\n",
       "    }\n",
       "</style>\n",
       "<table border=\"1\" class=\"dataframe\">\n",
       "  <thead>\n",
       "    <tr style=\"text-align: right;\">\n",
       "      <th></th>\n",
       "      <th>age</th>\n",
       "      <th>bmi</th>\n",
       "      <th>children</th>\n",
       "      <th>charges</th>\n",
       "      <th>sex_male</th>\n",
       "      <th>smoker_yes</th>\n",
       "    </tr>\n",
       "  </thead>\n",
       "  <tbody>\n",
       "    <tr>\n",
       "      <td>0</td>\n",
       "      <td>19</td>\n",
       "      <td>27.900</td>\n",
       "      <td>0</td>\n",
       "      <td>16884.92400</td>\n",
       "      <td>0</td>\n",
       "      <td>1</td>\n",
       "    </tr>\n",
       "    <tr>\n",
       "      <td>1</td>\n",
       "      <td>18</td>\n",
       "      <td>33.770</td>\n",
       "      <td>1</td>\n",
       "      <td>1725.55230</td>\n",
       "      <td>1</td>\n",
       "      <td>0</td>\n",
       "    </tr>\n",
       "    <tr>\n",
       "      <td>2</td>\n",
       "      <td>28</td>\n",
       "      <td>33.000</td>\n",
       "      <td>3</td>\n",
       "      <td>4449.46200</td>\n",
       "      <td>1</td>\n",
       "      <td>0</td>\n",
       "    </tr>\n",
       "    <tr>\n",
       "      <td>3</td>\n",
       "      <td>33</td>\n",
       "      <td>22.705</td>\n",
       "      <td>0</td>\n",
       "      <td>21984.47061</td>\n",
       "      <td>1</td>\n",
       "      <td>0</td>\n",
       "    </tr>\n",
       "    <tr>\n",
       "      <td>4</td>\n",
       "      <td>32</td>\n",
       "      <td>28.880</td>\n",
       "      <td>0</td>\n",
       "      <td>3866.85520</td>\n",
       "      <td>1</td>\n",
       "      <td>0</td>\n",
       "    </tr>\n",
       "    <tr>\n",
       "      <td>...</td>\n",
       "      <td>...</td>\n",
       "      <td>...</td>\n",
       "      <td>...</td>\n",
       "      <td>...</td>\n",
       "      <td>...</td>\n",
       "      <td>...</td>\n",
       "    </tr>\n",
       "    <tr>\n",
       "      <td>1333</td>\n",
       "      <td>50</td>\n",
       "      <td>30.970</td>\n",
       "      <td>3</td>\n",
       "      <td>10600.54830</td>\n",
       "      <td>1</td>\n",
       "      <td>0</td>\n",
       "    </tr>\n",
       "    <tr>\n",
       "      <td>1334</td>\n",
       "      <td>18</td>\n",
       "      <td>31.920</td>\n",
       "      <td>0</td>\n",
       "      <td>2205.98080</td>\n",
       "      <td>0</td>\n",
       "      <td>0</td>\n",
       "    </tr>\n",
       "    <tr>\n",
       "      <td>1335</td>\n",
       "      <td>18</td>\n",
       "      <td>36.850</td>\n",
       "      <td>0</td>\n",
       "      <td>1629.83350</td>\n",
       "      <td>0</td>\n",
       "      <td>0</td>\n",
       "    </tr>\n",
       "    <tr>\n",
       "      <td>1336</td>\n",
       "      <td>21</td>\n",
       "      <td>25.800</td>\n",
       "      <td>0</td>\n",
       "      <td>2007.94500</td>\n",
       "      <td>0</td>\n",
       "      <td>0</td>\n",
       "    </tr>\n",
       "    <tr>\n",
       "      <td>1337</td>\n",
       "      <td>61</td>\n",
       "      <td>29.070</td>\n",
       "      <td>0</td>\n",
       "      <td>29141.36030</td>\n",
       "      <td>0</td>\n",
       "      <td>1</td>\n",
       "    </tr>\n",
       "  </tbody>\n",
       "</table>\n",
       "<p>1338 rows × 6 columns</p>\n",
       "</div>"
      ],
      "text/plain": [
       "      age     bmi  children      charges  sex_male  smoker_yes\n",
       "0      19  27.900         0  16884.92400         0           1\n",
       "1      18  33.770         1   1725.55230         1           0\n",
       "2      28  33.000         3   4449.46200         1           0\n",
       "3      33  22.705         0  21984.47061         1           0\n",
       "4      32  28.880         0   3866.85520         1           0\n",
       "...   ...     ...       ...          ...       ...         ...\n",
       "1333   50  30.970         3  10600.54830         1           0\n",
       "1334   18  31.920         0   2205.98080         0           0\n",
       "1335   18  36.850         0   1629.83350         0           0\n",
       "1336   21  25.800         0   2007.94500         0           0\n",
       "1337   61  29.070         0  29141.36030         0           1\n",
       "\n",
       "[1338 rows x 6 columns]"
      ]
     },
     "execution_count": 4,
     "metadata": {},
     "output_type": "execute_result"
    }
   ],
   "source": [
    "dataset"
   ]
  },
  {
   "cell_type": "code",
   "execution_count": 5,
   "metadata": {},
   "outputs": [
    {
     "data": {
      "text/plain": [
       "Index(['age', 'bmi', 'children', 'charges', 'sex_male', 'smoker_yes'], dtype='object')"
      ]
     },
     "execution_count": 5,
     "metadata": {},
     "output_type": "execute_result"
    }
   ],
   "source": [
    "dataset.columns"
   ]
  },
  {
   "cell_type": "code",
   "execution_count": 6,
   "metadata": {},
   "outputs": [],
   "source": [
    "#input/output split\n",
    "independent=dataset[['age', 'bmi', 'children', 'sex_male', 'smoker_yes']]\n",
    "dependent=dataset[['charges']]"
   ]
  },
  {
   "cell_type": "code",
   "execution_count": 10,
   "metadata": {},
   "outputs": [],
   "source": [
    "#train/test split\n",
    "from sklearn.model_selection import train_test_split\n",
    "X_train,X_test,Y_train,Y_test=train_test_split(independent,dependent,test_size=0.30,random_state=0)"
   ]
  },
  {
   "cell_type": "code",
   "execution_count": 11,
   "metadata": {},
   "outputs": [],
   "source": [
    "#standardization\n",
    "from sklearn.preprocessing import StandardScaler\n",
    "sc=StandardScaler()\n",
    "X_train=sc.fit_transform(X_train)\n",
    "X_test=sc.transform(X_test)"
   ]
  },
  {
   "cell_type": "code",
   "execution_count": 221,
   "metadata": {},
   "outputs": [
    {
     "ename": "SyntaxError",
     "evalue": "unexpected EOF while parsing (<ipython-input-221-454d480b1b28>, line 3)",
     "output_type": "error",
     "traceback": [
      "\u001b[1;36m  File \u001b[1;32m\"<ipython-input-221-454d480b1b28>\"\u001b[1;36m, line \u001b[1;32m3\u001b[0m\n\u001b[1;33m    regressor=SVR(kernel=\"linear\",C=600\u001b[0m\n\u001b[1;37m                                       ^\u001b[0m\n\u001b[1;31mSyntaxError\u001b[0m\u001b[1;31m:\u001b[0m unexpected EOF while parsing\n"
     ]
    }
   ],
   "source": [
    "#model creation\n",
    "from sklearn.svm import SVR\n",
    "regressor=SVR(kernel=\"linear\",C=600"
   ]
  },
  {
   "cell_type": "code",
   "execution_count": 222,
   "metadata": {},
   "outputs": [
    {
     "name": "stderr",
     "output_type": "stream",
     "text": [
      "C:\\Users\\Senthil\\Anaconda3\\lib\\site-packages\\sklearn\\utils\\validation.py:724: DataConversionWarning: A column-vector y was passed when a 1d array was expected. Please change the shape of y to (n_samples, ), for example using ravel().\n",
      "  y = column_or_1d(y, warn=True)\n"
     ]
    },
    {
     "data": {
      "text/plain": [
       "SVR(C=900, cache_size=200, coef0=0.0, degree=3, epsilon=0.1,\n",
       "    gamma='auto_deprecated', kernel='linear', max_iter=-1, shrinking=True,\n",
       "    tol=0.001, verbose=False)"
      ]
     },
     "execution_count": 222,
     "metadata": {},
     "output_type": "execute_result"
    }
   ],
   "source": [
    "regressor.fit(X_train,Y_train)"
   ]
  },
  {
   "cell_type": "code",
   "execution_count": 223,
   "metadata": {},
   "outputs": [],
   "source": [
    "Y_predict=regressor.predict(X_test)"
   ]
  },
  {
   "cell_type": "code",
   "execution_count": 224,
   "metadata": {},
   "outputs": [
    {
     "data": {
      "text/plain": [
       "array([10214.39494622,  9214.45115849, 37183.72660223, 12389.9214118 ,\n",
       "        9589.44474614,  4825.59323721,  1054.31343555, 11259.63785385,\n",
       "        7666.75580327,  5490.1522551 ,  6333.65190556, 10339.05169975,\n",
       "        8168.3552404 ,  4976.7453056 , 30514.1079133 , 10793.79792973,\n",
       "       11781.43314347,  3386.53517397,  6892.04883736, 28714.18218052,\n",
       "       37592.48677192, 12113.42828463, 10167.74094847, 36137.15588021,\n",
       "        1951.45550164,  5093.56022701,  3481.31119986,  8264.48939926,\n",
       "        4482.17812136,  8775.58336829,  8159.12275597, 39702.85992205,\n",
       "       12630.72654442, 10774.93937778, 29868.89437256,  4270.95387932,\n",
       "        9227.97743306, 31379.32157389, 35219.34194833,  1754.60226786,\n",
       "        5662.12347268,  3662.27185745, 33640.17215909, 39743.10496361,\n",
       "       28679.53490456,  2818.84636058, 10785.73041412,  7471.7861924 ,\n",
       "        4531.95749955, 11730.31382961,  2587.1514773 ,  2580.51562825,\n",
       "       36469.2308166 , 38643.56726505, 12026.09303676,  3580.73904061,\n",
       "        3050.8459168 ,  9184.89531624,  9346.39009112, 12188.75216045,\n",
       "        1033.21949761, 41060.83895433, 13218.27947389, 10143.52628036,\n",
       "       10509.92422732, 10521.15227784, 28438.78451885, 32939.11073152,\n",
       "        2555.06304711,  8275.69522235, 12485.21406148, 11482.96073418,\n",
       "       28631.42902797, 13226.20717711, 12118.62902639, 12204.56029115,\n",
       "        8025.36523925,  8515.58732733, 33841.22584075, 40114.06277831,\n",
       "       11175.69952004, 35527.19474544,  1910.87345342,  8361.05248129,\n",
       "       35315.56600855, 33103.85795781,  3972.96839524,  2944.37915775,\n",
       "       12001.73046525, 31474.63725675,  6247.71661052, 10594.03145196,\n",
       "        3274.60562569,  9054.59535074,  5150.73856334,  5296.05304624,\n",
       "       37980.89450519, 35871.28043389,  5468.80091995, 11113.04363807,\n",
       "        2186.63782034,  6066.68179935,  4680.01187095, 33041.94760762,\n",
       "       35702.86817019,  3318.73652165, 10668.10792861,  3908.64505707,\n",
       "       11509.70051921, 39356.41599254, 11689.30022308,  5139.67053751,\n",
       "        9467.23532944, 28210.20289474, 39197.53605033,  7874.46027616,\n",
       "        1541.50670995,  9189.54024947, 12236.42182847,  9331.54226379,\n",
       "       36154.89552971,  9861.17535526, 13560.64438484,  5380.99430905,\n",
       "        8374.44560887,  4632.70890819, 36502.79273321, 35957.45818396,\n",
       "       39529.98981326,  1762.2335749 ,  8838.23723513,  1299.72168152,\n",
       "        6863.85233745,  9352.11492767, 34522.22657795, 32423.67851735,\n",
       "       34391.19056682, 10273.53369418, 38012.04141869,  2466.83234892,\n",
       "        1720.8653844 , 10538.90342862, 10006.13202967, 10399.55341657,\n",
       "        5328.13338542, 13469.45701142, 12566.40584138,  3116.1261176 ,\n",
       "         863.43496452, 10628.04250418,  6780.12130421, 30847.32075505,\n",
       "       10000.97047265,  1208.28983793,  2051.54098795,  7371.86538104,\n",
       "        2299.61273748,  1192.15480671, 10792.82004905, 10140.20088475,\n",
       "        4468.25888384, 12692.57749743, 12162.75589208, 10181.87839847,\n",
       "        4619.32790188,  4106.83540577, 28573.92580624,  5820.38073818,\n",
       "        4573.32569005,  1384.47040017,  4074.87466654,  4188.67754583,\n",
       "        8594.86516573,  2532.07618573,  4412.39744999,  4372.33202556,\n",
       "        4079.52161491,  6568.34063365, 40241.00219373,   705.50521955,\n",
       "       11003.28118199,  7074.08657753, 11224.03511039,  3272.58237615,\n",
       "        5665.77840395, 39736.69337229,  1901.58358695,  2258.00007681,\n",
       "       13395.99372533, 10248.47348662, 36684.9480582 ,  4075.18864003,\n",
       "        6217.22470745, 35974.39147874,  2791.09434601,  2286.13919468,\n",
       "        6641.22042777,  6491.57762026,  4705.4895004 ,  4615.13008913,\n",
       "       11139.42338325, 40441.87160801, 11823.11794259, 32731.55555717,\n",
       "        4569.56408587, 36759.60864682,  3345.61611908,  9902.41929554,\n",
       "        6603.27280451,  1118.29310164,  9206.68084482, 12836.27524078,\n",
       "        4923.90257928,  2551.33659739,  7267.77382038,  2227.46635387,\n",
       "        6728.03703672,  5330.89206061, 13168.5992976 ,  6678.81811732,\n",
       "        6798.14522861,  7761.97894963,  9060.40525279,  2837.98190202,\n",
       "       11810.71481696, 13172.59870655, 12203.63777737, 11617.58338264,\n",
       "        7100.36913594,  2549.43558294,   803.65999281,  8851.33942241,\n",
       "       12126.81676195,  2806.68023411,  5103.16608209,  7758.21269518,\n",
       "        9430.07586359, 29782.52488409,  6454.53775437, 11072.95719558,\n",
       "        6380.99203792, 30056.90749548,  8222.16636126,  7643.20160146,\n",
       "        8644.08610027, 10502.62729182,  2305.14301489,  8282.76727997,\n",
       "        2036.72487435,  7148.96131774, 32056.94619885, 41294.83872691,\n",
       "        4179.8218728 ,  3701.60449137,  1123.987434  ,   628.86382124,\n",
       "        8446.6170408 ,  1311.86275967,  4202.05855213,  3768.59334823,\n",
       "        8934.88739779, 37333.14171111, 39866.75150274, 13620.72120876,\n",
       "        7258.11724866, 11377.317907  , 33132.43390425,  9308.31759764,\n",
       "       34927.91936924,   908.53769576, 30813.58852186,  5448.6848627 ,\n",
       "       12200.79868697,  3733.90626753, 33468.0908277 ,  5867.38386387,\n",
       "       10099.95320806,  9846.3356191 ,  1795.6334517 , 12639.99337769,\n",
       "       11665.74400614,  5178.60816273, 11911.49127392,  1147.21210016,\n",
       "        6675.17208282,  3412.01745369,  8846.6342864 , 35422.83769656,\n",
       "        3729.77129269,   689.24795324,  1650.20339912, 40460.30405752,\n",
       "        9313.51632426,  5059.15943635, 11841.69767551, 11406.50905914,\n",
       "       29870.11470827,  7312.94807006,  5720.75449362,  9424.2316127 ,\n",
       "        1079.42435974,  2172.02699218, 31131.77249356, 30766.59488231,\n",
       "       12792.02614   ,  2561.1701511 ,  3459.57902304,  9109.68356936,\n",
       "        9881.63933109, 28308.18471628, 33457.91016118,  6555.38433464,\n",
       "       28856.29086776,  1421.26517589,  6910.81364328,  5139.37070044,\n",
       "        8683.67470564,  1413.92096465,  7322.26298484, 35614.71708145,\n",
       "        3130.05890216,  3993.1391994 ,  1226.17798021,  9168.70553811,\n",
       "        4191.98799927, 11558.17713132, 41191.3981464 , 31988.33251143,\n",
       "        9448.21938794, 35798.67077825, 12389.80382698,  4578.85395233,\n",
       "        9945.47574405,  3519.5843285 , 39874.15511116,  5248.38136309,\n",
       "       12334.62043674,  1340.30574488, 28905.18490177,  3072.5530453 ,\n",
       "       38801.55175692,  6992.90288864,  2233.70034321, 30554.90736825,\n",
       "        5565.51857079,  5817.23979556, 41116.89212658,  1074.77942651,\n",
       "        8576.73456842,  1812.77606219, 11435.10459802,  3420.46581097,\n",
       "        6147.62910908,  5237.73478941, 37534.97688479,  8911.27844907,\n",
       "       33160.73707707, 29820.56767898,  6460.52727354,  8917.58538262,\n",
       "        1012.0728279 ,  3383.03217637,  2238.22567649,  9313.51430912,\n",
       "       38616.94506483, 10971.98636509,  1279.59471236, 11525.95980065,\n",
       "        2078.52725829,  8368.79309637,  4094.89353704,  2415.21742932,\n",
       "        3304.88213718, 28602.70176785,  6587.80571076,   919.2436666 ,\n",
       "       33778.56995877, 11069.06870605, 37557.64775756, 11226.97076757,\n",
       "        5007.62896224,  1848.16886994,  1648.86891933, 10470.57665123,\n",
       "        5637.63463581,  1191.33896585, 10572.73749885,  7612.72789569,\n",
       "        7078.76868036,  4061.37607542,  2422.25634762, 32350.39283324,\n",
       "        1625.2080446 ,  9509.25651523,  1344.13282211,  8182.89920038,\n",
       "       11095.93072616,  4028.76234091, 30486.353078  , 10798.89745444,\n",
       "       13610.59872988, 12671.74681635])"
      ]
     },
     "execution_count": 224,
     "metadata": {},
     "output_type": "execute_result"
    }
   ],
   "source": [
    "Y_predict"
   ]
  },
  {
   "cell_type": "code",
   "execution_count": 225,
   "metadata": {},
   "outputs": [],
   "source": [
    "#Evalution metrics\n",
    "from sklearn.metrics import r2_score\n",
    "r_score=r2_score(Y_test,Y_predict)"
   ]
  },
  {
   "cell_type": "code",
   "execution_count": 226,
   "metadata": {},
   "outputs": [
    {
     "data": {
      "text/plain": [
       "0.7649156139014722"
      ]
     },
     "execution_count": 226,
     "metadata": {},
     "output_type": "execute_result"
    }
   ],
   "source": [
    "r_score"
   ]
  },
  {
   "cell_type": "code",
   "execution_count": 185,
   "metadata": {},
   "outputs": [],
   "source": [
    "#save the model\n",
    "import pickle\n",
    "filename=\"finalized_model_svm.sav\"\n",
    "pickle.dump(regressor,open(filename,'wb'))\n"
   ]
  },
  {
   "cell_type": "code",
   "execution_count": 187,
   "metadata": {},
   "outputs": [],
   "source": [
    "load_model=pickle.load(open(\"finalized_model_svm.sav\",'rb'))"
   ]
  },
  {
   "cell_type": "code",
   "execution_count": 189,
   "metadata": {},
   "outputs": [],
   "source": [
    "result=load_model.predict([[17,23,2,0,1]])"
   ]
  },
  {
   "cell_type": "code",
   "execution_count": 190,
   "metadata": {},
   "outputs": [
    {
     "data": {
      "text/plain": [
       "array([9578.18608336])"
      ]
     },
     "execution_count": 190,
     "metadata": {},
     "output_type": "execute_result"
    }
   ],
   "source": [
    "result"
   ]
  },
  {
   "cell_type": "code",
   "execution_count": null,
   "metadata": {},
   "outputs": [],
   "source": []
  }
 ],
 "metadata": {
  "kernelspec": {
   "display_name": "Python 3",
   "language": "python",
   "name": "python3"
  },
  "language_info": {
   "codemirror_mode": {
    "name": "ipython",
    "version": 3
   },
   "file_extension": ".py",
   "mimetype": "text/x-python",
   "name": "python",
   "nbconvert_exporter": "python",
   "pygments_lexer": "ipython3",
   "version": "3.7.4"
  }
 },
 "nbformat": 4,
 "nbformat_minor": 2
}
